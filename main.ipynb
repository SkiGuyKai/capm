{
 "cells": [
  {
   "cell_type": "markdown",
   "id": "0647a3d2",
   "metadata": {},
   "source": [
    "# Capital Asset Pricing Model\n",
    "Welcome to this easy-to-use CAPM program!\n",
    "All you need to do is enter your desired exchange-traded ticker below and view the results printed by the last cell."
   ]
  },
  {
   "cell_type": "code",
   "execution_count": null,
   "id": "9dd6ddfc",
   "metadata": {},
   "outputs": [],
   "source": [
    "symbol = \"ENTER TICKER HERE\""
   ]
  },
  {
   "cell_type": "code",
   "execution_count": null,
   "id": "3674c9ea",
   "metadata": {},
   "outputs": [],
   "source": [
    "import matplotlib.pyplot as plt\n",
    "import yfinance as yf\n",
    "import pandas as pd\n",
    "import numpy as np\n",
    "import requests"
   ]
  },
  {
   "cell_type": "code",
   "execution_count": null,
   "id": "ef307232",
   "metadata": {},
   "outputs": [],
   "source": [
    "r = requests.get('https://api.fiscaldata.treasury.gov/services/api/fiscal_service/v2/accounting/od/avg_interest_rates?fields=record_date,security_desc,avg_interest_rate_amt&filter=security_desc:eq:Treasury Bills&sort=-record_date')"
   ]
  },
  {
   "cell_type": "code",
   "execution_count": null,
   "id": "e96615e4",
   "metadata": {},
   "outputs": [],
   "source": [
    "raw = r.json()\n",
    "data = raw['data']\n",
    "rf_data = [round(float(i['avg_interest_rate_amt']) / 100, 4) for i in data]\n",
    "\n",
    "rf_df = pd.DataFrame(rf_data[:61])\n",
    "rf_df = rf_df.loc[::-1]"
   ]
  },
  {
   "cell_type": "code",
   "execution_count": null,
   "id": "3ff16a04",
   "metadata": {},
   "outputs": [],
   "source": [
    "stock = yf.Ticker(symbol)\n",
    "market = yf.Ticker('spy')\n",
    "\n",
    "mkt = market.history(period='5y', interval='1mo')\n",
    "stk = stock.history(period='5y', interval='1mo')\n",
    "mkt.dropna(inplace=True)\n",
    "stk.dropna(inplace=True)\n",
    "\n",
    "stk['rm'] = round(mkt['Close'].pct_change(), 4)\n",
    "stk['rs'] = round(stk['Close'].pct_change(), 4)\n",
    "stk['rf'] = rf_df.values\n",
    "stk = stk.iloc[:60, -3:]\n",
    "stk.dropna(inplace=True)"
   ]
  },
  {
   "cell_type": "code",
   "execution_count": null,
   "id": "3297a0dd",
   "metadata": {},
   "outputs": [],
   "source": [
    "capm_df = pd.DataFrame()\n",
    "capm_df['market excess'] = stk['rm'] - stk['rf']\n",
    "capm_df['stock excess'] = stk['rs'] - stk['rf']\n",
    "capm_df.dropna(inplace=True)"
   ]
  },
  {
   "cell_type": "code",
   "execution_count": null,
   "id": "a8abbf84",
   "metadata": {},
   "outputs": [],
   "source": [
    "x = capm_df['market excess']\n",
    "x_bar = x.mean()\n",
    "y = capm_df['stock excess']\n",
    "y_bar = y.mean()\n",
    "\n",
    "x_0 = x - x_bar\n",
    "y_0 = y - y_bar\n",
    "\n",
    "n = x_0 * y_0\n",
    "d = x_0 ** 2\n",
    "q = n.sum() / d.sum()\n",
    "r_s = (stk.iloc[-1, -1] + q * stk['rm'].mean()) * 12 ** 0.5\n",
    "\n",
    "print(f\"{symbol.upper()}'s beta: {round(q, 3)}\")\n",
    "print(f\"Required rate of return: {round(r_s, 4) * 100}%\")"
   ]
  },
  {
   "cell_type": "code",
   "execution_count": null,
   "id": "705c3040",
   "metadata": {},
   "outputs": [],
   "source": [
    "x_v = np.linspace(-0.2, 0.2)\n",
    "y_v = x_v * q\n",
    "\n",
    "plt.grid(True)\n",
    "plt.axhline(0, color='black')\n",
    "plt.axvline(0, color='black')\n",
    "plt.xlim((x.min() - 0.05, x.max() + 0.05))\n",
    "plt.ylim((y.min() - 0.05, y.max() + 0.05))\n",
    "\n",
    "plt.scatter(x, y)\n",
    "lplot, = plt.plot(x_v, y_v, 'r')\n",
    "lbl = f'y = {stk.iloc[-1, -1]} + {round(q, 3)}({round(x_bar, 3)})'\n",
    "plt.legend([lplot], [lbl])\n",
    "plt.show()"
   ]
  }
 ],
 "metadata": {
  "kernelspec": {
   "display_name": "Python 3",
   "language": "python",
   "name": "python3"
  },
  "language_info": {
   "codemirror_mode": {
    "name": "ipython",
    "version": 3
   },
   "file_extension": ".py",
   "mimetype": "text/x-python",
   "name": "python",
   "nbconvert_exporter": "python",
   "pygments_lexer": "ipython3",
   "version": "3.9.2"
  }
 },
 "nbformat": 4,
 "nbformat_minor": 5
}
